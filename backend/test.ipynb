{
 "cells": [
  {
   "cell_type": "code",
   "execution_count": null,
   "metadata": {},
   "outputs": [],
   "source": [
    "import tensorflow as tf\n",
    "from tensorflow import keras\n",
    "from joblib import load\n",
    "from sklearn.preprocessing import StandardScaler\n",
    "from sklearn.model_selection import train_test_split\n",
    "from sklearn.metrics import mean_absolute_error\n",
    "import pandas as np\n",
    "import numpy as np"
   ]
  },
  {
   "cell_type": "code",
   "execution_count": null,
   "metadata": {},
   "outputs": [],
   "source": [
    "data = {\n",
    "  \"path\": \"assets/3307c949b3f047608641ecff9976cadd\",\n",
    "  \"kota\": 1,\n",
    "  \"tahun\": 2011,\n",
    "  \"luas_panen\": 4366,\n",
    "  \"luas_lahan\": 74902,\n",
    "  \"produktivitas\": 21.04,\n",
    "  \"stasiun\": 1,\n",
    "  \"suhu_min\": 21.21,\n",
    "  \"suhu_max\": 33.85,\n",
    "  \"suhu_avg\": 24.51,\n",
    "  \"humidity_avg\": 83.71,\n",
    "  \"curah_hujan\": 2903,\n",
    "  \"hari_hujan\": 212,\n",
    "  \"penyinaran\": 42.5\n",
    "}\n",
    "path = data.path"
   ]
  }
 ],
 "metadata": {
  "kernelspec": {
   "display_name": "Python 3.9.13 64-bit (windows store)",
   "language": "python",
   "name": "python3"
  },
  "language_info": {
   "name": "python",
   "version": "3.9.13"
  },
  "orig_nbformat": 4,
  "vscode": {
   "interpreter": {
    "hash": "23b4a3e8622309bcc6db3d5cc6eb73d60ab98d9ec23bad6a26b709981ccb403a"
   }
  }
 },
 "nbformat": 4,
 "nbformat_minor": 2
}
