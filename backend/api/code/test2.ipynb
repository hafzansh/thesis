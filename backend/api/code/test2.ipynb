{
 "cells": [
  {
   "cell_type": "code",
   "execution_count": 3,
   "metadata": {},
   "outputs": [],
   "source": [
    "import tensorflow as tf\n",
    "from tensorflow import keras\n",
    "from joblib import load\n",
    "from sklearn.preprocessing import StandardScaler\n",
    "from sklearn.model_selection import train_test_split\n",
    "from sklearn.metrics import mean_absolute_error\n",
    "import pandas as pd\n",
    "import numpy as np"
   ]
  },
  {
   "cell_type": "code",
   "execution_count": 55,
   "metadata": {},
   "outputs": [],
   "source": [
    "myobject = {\n",
    "    \"path\": \"assets/e8f6745a74464925bfb7b1f6486e2834\",\n",
    "    \"data\": [{\n",
    "        \"kota\": 1,\n",
    "        \"tahun\": 2011,\n",
    "        \"luas_panen\": 43666,\n",
    "        \"luas_lahan\": 74902,\n",
    "        \"produktivitas\": 21.04,\n",
    "        \"stasiun\": 1,\n",
    "        \"suhu_min\": 21.21,\n",
    "        \"suhu_max\": 33.85,\n",
    "        \"suhu_avg\": 24.51,\n",
    "        \"humidity_avg\": 83.71,\n",
    "        \"curah_hujan\": 2903,\n",
    "        \"hari_hujan\": 212,\n",
    "        \"penyinaran\": 42.5\n",
    "    },\n",
    "        {\n",
    "        \"kota\": 2,\n",
    "        \"tahun\": 2013,\n",
    "        \"luas_panen\": 17611,\n",
    "        \"luas_lahan\": 31873,\n",
    "        \"produktivitas\": 40.32,\n",
    "        \"stasiun\": 1,\n",
    "        \"suhu_min\": 20.6,\n",
    "        \"suhu_max\": 37,\n",
    "        \"suhu_avg\": 26.72,\n",
    "        \"humidity_avg\": 84.27,\n",
    "        \"curah_hujan\": 3006,\n",
    "        \"hari_hujan\": 243,\n",
    "        \"penyinaran\": 33.01\n",
    "    }]\n",
    "}\n"
   ]
  },
  {
   "cell_type": "code",
   "execution_count": 56,
   "metadata": {},
   "outputs": [],
   "source": [
    "path = myobject['path']\n",
    "raw_data = pd.json_normalize(myobject,record_path=['data'])"
   ]
  },
  {
   "cell_type": "code",
   "execution_count": 57,
   "metadata": {},
   "outputs": [],
   "source": [
    "data = raw_data.values"
   ]
  },
  {
   "cell_type": "code",
   "execution_count": 51,
   "metadata": {},
   "outputs": [],
   "source": [
    "x_scaler = load(path+'/scaler_x.bin')\n",
    "y_scaler = load(path+'/scaler_y.bin')\n",
    "model = keras.models.load_model(path+'/model.h5')"
   ]
  },
  {
   "cell_type": "code",
   "execution_count": 58,
   "metadata": {},
   "outputs": [],
   "source": [
    "x_scaled = x_scaler.transform(data)"
   ]
  },
  {
   "cell_type": "code",
   "execution_count": 59,
   "metadata": {},
   "outputs": [],
   "source": [
    "predicted = model.predict(x_scaled)\n",
    "result = y_scaler.inverse_transform(predicted.reshape(-1,1))"
   ]
  },
  {
   "cell_type": "code",
   "execution_count": 65,
   "metadata": {},
   "outputs": [
    {
     "name": "stdout",
     "output_type": "stream",
     "text": [
      "[90220.171875, 88502.8125]\n",
      "90220.171875\n"
     ]
    }
   ],
   "source": [
    "\n",
    "print(result.flatten().tolist())\n",
    "test = result.flatten().tolist()\n",
    "print(test[0])"
   ]
  },
  {
   "cell_type": "code",
   "execution_count": 96,
   "metadata": {},
   "outputs": [
    {
     "name": "stdout",
     "output_type": "stream",
     "text": [
      "   kota  tahun        result\n",
      "0     1   2011  90220.171875\n",
      "1     2   2013  88502.812500\n",
      "[{\"kota\":1,\"tahun\":2011,\"result\":90220.171875},{\"kota\":2,\"tahun\":2013,\"result\":88502.8125}]\n"
     ]
    }
   ],
   "source": [
    "df_result = pd.DataFrame(result,columns=[\"result\"])\n",
    "df_base = pd.DataFrame(raw_data,columns=[\"kota\",\"tahun\"])\n",
    "df_result = pd.concat([df_base,df_result],axis=1,join='inner')\n",
    "json_result = df_result.to_json(orient=\"records\")\n",
    "print(df_result)\n",
    "print(df_result.to_json(orient=\"records\"))"
   ]
  },
  {
   "cell_type": "code",
   "execution_count": 92,
   "metadata": {},
   "outputs": [
    {
     "name": "stdout",
     "output_type": "stream",
     "text": [
      "{'time': '21-Jul-2022 (14:15:24.229850)', 'user': 'hafiz', 'model': 'assets/e8f6745a74464925bfb7b1f6486e2834', 'data': '[{\"kota\":1,\"tahun\":2011,\"luas_panen\":43666,\"luas_lahan\":74902,\"produktivitas\":21.04,\"stasiun\":1,\"suhu_min\":21.21,\"suhu_max\":33.85,\"suhu_avg\":24.51,\"humidity_avg\":83.71,\"curah_hujan\":2903,\"hari_hujan\":212,\"penyinaran\":42.5,\"result\":90220.171875},{\"kota\":2,\"tahun\":2013,\"luas_panen\":17611,\"luas_lahan\":31873,\"produktivitas\":40.32,\"stasiun\":1,\"suhu_min\":20.6,\"suhu_max\":37.0,\"suhu_avg\":26.72,\"humidity_avg\":84.27,\"curah_hujan\":3006,\"hari_hujan\":243,\"penyinaran\":33.01,\"result\":88502.8125}]'}\n"
     ]
    }
   ],
   "source": [
    "from datetime import datetime\n",
    "timestamp = datetime.now()\n",
    "final_result = {\n",
    "    \"time\": timestamp.strftime(\"%d-%b-%Y (%H:%M:%S.%f)\"),\n",
    "    \"user\": \"hafiz\",\n",
    "    \"model\": path,\n",
    "    \"data\": json_result\n",
    "}\n",
    "print(final_result)"
   ]
  },
  {
   "cell_type": "code",
   "execution_count": 93,
   "metadata": {},
   "outputs": [
    {
     "name": "stdout",
     "output_type": "stream",
     "text": [
      "   kota tahun luas_panen luas_lahan produktivitas stasiun suhu_min suhu_max  \\\n",
      "0     1  2011      43666      74902         21.04       1       21       34   \n",
      "1     2  2011      20484      31873         19.63       1       21       34   \n",
      "2     3  2011      64996      71076         29.66       1       21       34   \n",
      "3     4  2011      92152     120094         31.33       1       21       34   \n",
      "4     5  2011      59213     106579          25.9       1       21       34   \n",
      "..  ...   ...        ...        ...           ...     ...      ...      ...   \n",
      "87   10  2017    27313.6      17578         39.96       1       20       37   \n",
      "88   11  2017    40760.6      34269         32.15       1       20       37   \n",
      "89   12  2017     1787.6       1988         39.35       1       20       37   \n",
      "90   13  2017     1862.9       4851         33.52       1       20       37   \n",
      "91        NaN        NaN        NaN           NaN     NaN      NaN      NaN   \n",
      "\n",
      "   suhu_avg humidity_avg curah_hujan hari_hujan penyinaran  \n",
      "0        25           84        2903        212         43  \n",
      "1        25           84        2903        212         43  \n",
      "2        25           84        2903        212         43  \n",
      "3        25           84        2903        212         43  \n",
      "4        25           84        2903        212         43  \n",
      "..      ...          ...         ...        ...        ...  \n",
      "87       27           86        3263        247         39  \n",
      "88       27           86        3263        247         39  \n",
      "89       27           86        3263        247         39  \n",
      "90       27           86        3263        247         39  \n",
      "91      NaN          NaN         NaN        NaN        NaN  \n",
      "\n",
      "[92 rows x 13 columns]\n"
     ]
    }
   ],
   "source": [
    "asd = [{\"kota\":\"1\",\"tahun\":\"2011\",\"luas_panen\":\"43666\",\"luas_lahan\":\"74902\",\"produktivitas\":\"21.04\",\"stasiun\":\"1\",\"suhu_min\":\"21\",\"suhu_max\":\"34\",\"suhu_avg\":\"25\",\"humidity_avg\":\"84\",\"curah_hujan\":\"2903\",\"hari_hujan\":\"212\",\"penyinaran\":\"43\"},{\"kota\":\"2\",\"tahun\":\"2011\",\"luas_panen\":\"20484\",\"luas_lahan\":\"31873\",\"produktivitas\":\"19.63\",\"stasiun\":\"1\",\"suhu_min\":\"21\",\"suhu_max\":\"34\",\"suhu_avg\":\"25\",\"humidity_avg\":\"84\",\"curah_hujan\":\"2903\",\"hari_hujan\":\"212\",\"penyinaran\":\"43\"},{\"kota\":\"3\",\"tahun\":\"2011\",\"luas_panen\":\"64996\",\"luas_lahan\":\"71076\",\"produktivitas\":\"29.66\",\"stasiun\":\"1\",\"suhu_min\":\"21\",\"suhu_max\":\"34\",\"suhu_avg\":\"25\",\"humidity_avg\":\"84\",\"curah_hujan\":\"2903\",\"hari_hujan\":\"212\",\"penyinaran\":\"43\"},{\"kota\":\"4\",\"tahun\":\"2011\",\"luas_panen\":\"92152\",\"luas_lahan\":\"120094\",\"produktivitas\":\"31.33\",\"stasiun\":\"1\",\"suhu_min\":\"21\",\"suhu_max\":\"34\",\"suhu_avg\":\"25\",\"humidity_avg\":\"84\",\"curah_hujan\":\"2903\",\"hari_hujan\":\"212\",\"penyinaran\":\"43\"},{\"kota\":\"5\",\"tahun\":\"2011\",\"luas_panen\":\"59213\",\"luas_lahan\":\"106579\",\"produktivitas\":\"25.9\",\"stasiun\":\"1\",\"suhu_min\":\"21\",\"suhu_max\":\"34\",\"suhu_avg\":\"25\",\"humidity_avg\":\"84\",\"curah_hujan\":\"2903\",\"hari_hujan\":\"212\",\"penyinaran\":\"43\"},{\"kota\":\"6\",\"tahun\":\"2011\",\"luas_panen\":\"46933\",\"luas_lahan\":\"57675\",\"produktivitas\":\"29.27\",\"stasiun\":\"1\",\"suhu_min\":\"21\",\"suhu_max\":\"34\",\"suhu_avg\":\"25\",\"humidity_avg\":\"84\",\"curah_hujan\":\"2903\",\"hari_hujan\":\"212\",\"penyinaran\":\"43\"},{\"kota\":\"7\",\"tahun\":\"2011\",\"luas_panen\":\"43167\",\"luas_lahan\":\"47115\",\"produktivitas\":\"33.66\",\"stasiun\":\"1\",\"suhu_min\":\"21\",\"suhu_max\":\"34\",\"suhu_avg\":\"25\",\"humidity_avg\":\"84\",\"curah_hujan\":\"2903\",\"hari_hujan\":\"212\",\"penyinaran\":\"43\"},{\"kota\":\"8\",\"tahun\":\"2011\",\"luas_panen\":\"28639\",\"luas_lahan\":\"36066\",\"produktivitas\":\"35.08\",\"stasiun\":\"1\",\"suhu_min\":\"21\",\"suhu_max\":\"34\",\"suhu_avg\":\"25\",\"humidity_avg\":\"84\",\"curah_hujan\":\"2903\",\"hari_hujan\":\"212\",\"penyinaran\":\"43\"},{\"kota\":\"9\",\"tahun\":\"2011\",\"luas_panen\":\"33345\",\"luas_lahan\":\"44851\",\"produktivitas\":\"20.61\",\"stasiun\":\"1\",\"suhu_min\":\"21\",\"suhu_max\":\"34\",\"suhu_avg\":\"25\",\"humidity_avg\":\"84\",\"curah_hujan\":\"2903\",\"hari_hujan\":\"212\",\"penyinaran\":\"43\"},{\"kota\":\"10\",\"tahun\":\"2011\",\"luas_panen\":\"21626\",\"luas_lahan\":\"29906\",\"produktivitas\":\"34.6\",\"stasiun\":\"1\",\"suhu_min\":\"21\",\"suhu_max\":\"34\",\"suhu_avg\":\"25\",\"humidity_avg\":\"84\",\"curah_hujan\":\"2903\",\"hari_hujan\":\"212\",\"penyinaran\":\"43\"},{\"kota\":\"11\",\"tahun\":\"2011\",\"luas_panen\":\"31307\",\"luas_lahan\":\"33162\",\"produktivitas\":\"6.15\",\"stasiun\":\"1\",\"suhu_min\":\"21\",\"suhu_max\":\"34\",\"suhu_avg\":\"25\",\"humidity_avg\":\"84\",\"curah_hujan\":\"2903\",\"hari_hujan\":\"212\",\"penyinaran\":\"43\"},{\"kota\":\"12\",\"tahun\":\"2011\",\"luas_panen\":\"1686\",\"luas_lahan\":\"1742\",\"produktivitas\":\"56.45\",\"stasiun\":\"1\",\"suhu_min\":\"21\",\"suhu_max\":\"34\",\"suhu_avg\":\"25\",\"humidity_avg\":\"84\",\"curah_hujan\":\"2903\",\"hari_hujan\":\"212\",\"penyinaran\":\"43\"},{\"kota\":\"13\",\"tahun\":\"2011\",\"luas_panen\":\"1920\",\"luas_lahan\":\"6548\",\"produktivitas\":\"26.71\",\"stasiun\":\"1\",\"suhu_min\":\"21\",\"suhu_max\":\"34\",\"suhu_avg\":\"25\",\"humidity_avg\":\"84\",\"curah_hujan\":\"2903\",\"hari_hujan\":\"212\",\"penyinaran\":\"43\"},{\"kota\":\"1\",\"tahun\":\"2012\",\"luas_panen\":\"45839\",\"luas_lahan\":\"75671\",\"produktivitas\":\"20.04\",\"stasiun\":\"1\",\"suhu_min\":\"20\",\"suhu_max\":\"34\",\"suhu_avg\":\"27\",\"humidity_avg\":\"84\",\"curah_hujan\":\"2508\",\"hari_hujan\":\"225\",\"penyinaran\":\"54\"},{\"kota\":\"2\",\"tahun\":\"2012\",\"luas_panen\":\"19480\",\"luas_lahan\":\"31873\",\"produktivitas\":\"20.64\",\"stasiun\":\"1\",\"suhu_min\":\"20\",\"suhu_max\":\"34\",\"suhu_avg\":\"27\",\"humidity_avg\":\"84\",\"curah_hujan\":\"2508\",\"hari_hujan\":\"225\",\"penyinaran\":\"54\"},{\"kota\":\"3\",\"tahun\":\"2012\",\"luas_panen\":\"72115\",\"luas_lahan\":\"71186\",\"produktivitas\":\"26.73\",\"stasiun\":\"1\",\"suhu_min\":\"20\",\"suhu_max\":\"34\",\"suhu_avg\":\"27\",\"humidity_avg\":\"84\",\"curah_hujan\":\"2508\",\"hari_hujan\":\"225\",\"penyinaran\":\"54\"},{\"kota\":\"4\",\"tahun\":\"2012\",\"luas_panen\":\"93384\",\"luas_lahan\":\"118949\",\"produktivitas\":\"30.92\",\"stasiun\":\"1\",\"suhu_min\":\"20\",\"suhu_max\":\"34\",\"suhu_avg\":\"27\",\"humidity_avg\":\"84\",\"curah_hujan\":\"2508\",\"hari_hujan\":\"225\",\"penyinaran\":\"54\"},{\"kota\":\"5\",\"tahun\":\"2012\",\"luas_panen\":\"64105\",\"luas_lahan\":\"61897\",\"produktivitas\":\"23.92\",\"stasiun\":\"1\",\"suhu_min\":\"20\",\"suhu_max\":\"34\",\"suhu_avg\":\"27\",\"humidity_avg\":\"84\",\"curah_hujan\":\"2508\",\"hari_hujan\":\"225\",\"penyinaran\":\"54\"},{\"kota\":\"6\",\"tahun\":\"2012\",\"luas_panen\":\"48756\",\"luas_lahan\":\"56643\",\"produktivitas\":\"28.17\",\"stasiun\":\"1\",\"suhu_min\":\"20\",\"suhu_max\":\"34\",\"suhu_avg\":\"27\",\"humidity_avg\":\"84\",\"curah_hujan\":\"2508\",\"hari_hujan\":\"225\",\"penyinaran\":\"54\"},{\"kota\":\"7\",\"tahun\":\"2012\",\"luas_panen\":\"43551\",\"luas_lahan\":\"48359\",\"produktivitas\":\"33.36\",\"stasiun\":\"1\",\"suhu_min\":\"20\",\"suhu_max\":\"34\",\"suhu_avg\":\"27\",\"humidity_avg\":\"84\",\"curah_hujan\":\"2508\",\"hari_hujan\":\"225\",\"penyinaran\":\"54\"},{\"kota\":\"8\",\"tahun\":\"2012\",\"luas_panen\":\"24374\",\"luas_lahan\":\"34998\",\"produktivitas\":\"41.22\",\"stasiun\":\"1\",\"suhu_min\":\"20\",\"suhu_max\":\"34\",\"suhu_avg\":\"27\",\"humidity_avg\":\"84\",\"curah_hujan\":\"2508\",\"hari_hujan\":\"225\",\"penyinaran\":\"54\"},{\"kota\":\"9\",\"tahun\":\"2012\",\"luas_panen\":\"32840\",\"luas_lahan\":\"44851\",\"produktivitas\":\"20.93\",\"stasiun\":\"1\",\"suhu_min\":\"20\",\"suhu_max\":\"34\",\"suhu_avg\":\"27\",\"humidity_avg\":\"84\",\"curah_hujan\":\"2508\",\"hari_hujan\":\"225\",\"penyinaran\":\"54\"},{\"kota\":\"10\",\"tahun\":\"2012\",\"luas_panen\":\"16831\",\"luas_lahan\":\"29991\",\"produktivitas\":\"44.46\",\"stasiun\":\"1\",\"suhu_min\":\"20\",\"suhu_max\":\"34\",\"suhu_avg\":\"27\",\"humidity_avg\":\"84\",\"curah_hujan\":\"2508\",\"hari_hujan\":\"225\",\"penyinaran\":\"54\"},{\"kota\":\"11\",\"tahun\":\"2012\",\"luas_panen\":\"31172\",\"luas_lahan\":\"33665\",\"produktivitas\":\"6.18\",\"stasiun\":\"1\",\"suhu_min\":\"20\",\"suhu_max\":\"34\",\"suhu_avg\":\"27\",\"humidity_avg\":\"84\",\"curah_hujan\":\"2508\",\"hari_hujan\":\"225\",\"penyinaran\":\"54\"},{\"kota\":\"12\",\"tahun\":\"2012\",\"luas_panen\":\"1685\",\"luas_lahan\":\"1737\",\"produktivitas\":\"56.49\",\"stasiun\":\"1\",\"suhu_min\":\"20\",\"suhu_max\":\"34\",\"suhu_avg\":\"27\",\"humidity_avg\":\"84\",\"curah_hujan\":\"2508\",\"hari_hujan\":\"225\",\"penyinaran\":\"54\"},{\"kota\":\"13\",\"tahun\":\"2012\",\"luas_panen\":\"1950\",\"luas_lahan\":\"6455\",\"produktivitas\":\"26.3\",\"stasiun\":\"1\",\"suhu_min\":\"20\",\"suhu_max\":\"34\",\"suhu_avg\":\"27\",\"humidity_avg\":\"84\",\"curah_hujan\":\"2508\",\"hari_hujan\":\"225\",\"penyinaran\":\"54\"},{\"kota\":\"1\",\"tahun\":\"2013\",\"luas_panen\":\"45209\",\"luas_lahan\":\"75900\",\"produktivitas\":\"37.27\",\"stasiun\":\"1\",\"suhu_min\":\"21\",\"suhu_max\":\"37\",\"suhu_avg\":\"27\",\"humidity_avg\":\"84\",\"curah_hujan\":\"3006\",\"hari_hujan\":\"243\",\"penyinaran\":\"33\"},{\"kota\":\"2\",\"tahun\":\"2013\",\"luas_panen\":\"17611\",\"luas_lahan\":\"31873\",\"produktivitas\":\"40.32\",\"stasiun\":\"1\",\"suhu_min\":\"21\",\"suhu_max\":\"37\",\"suhu_avg\":\"27\",\"humidity_avg\":\"84\",\"curah_hujan\":\"3006\",\"hari_hujan\":\"243\",\"penyinaran\":\"33\"},{\"kota\":\"3\",\"tahun\":\"2013\",\"luas_panen\":\"71872\",\"luas_lahan\":\"70626\",\"produktivitas\":\"39.76\",\"stasiun\":\"1\",\"suhu_min\":\"21\",\"suhu_max\":\"37\",\"suhu_avg\":\"27\",\"humidity_avg\":\"84\",\"curah_hujan\":\"3006\",\"hari_hujan\":\"243\",\"penyinaran\":\"33\"},{\"kota\":\"4\",\"tahun\":\"2013\",\"luas_panen\":\"95277\",\"luas_lahan\":\"116178\",\"produktivitas\":\"36.99\",\"stasiun\":\"1\",\"suhu_min\":\"21\",\"suhu_max\":\"37\",\"suhu_avg\":\"27\",\"humidity_avg\":\"84\",\"curah_hujan\":\"3006\",\"hari_hujan\":\"243\",\"penyinaran\":\"33\"},{\"kota\":\"5\",\"tahun\":\"2013\",\"luas_panen\":\"61801\",\"luas_lahan\":\"60289\",\"produktivitas\":\"45.94\",\"stasiun\":\"1\",\"suhu_min\":\"21\",\"suhu_max\":\"37\",\"suhu_avg\":\"27\",\"humidity_avg\":\"84\",\"curah_hujan\":\"3006\",\"hari_hujan\":\"243\",\"penyinaran\":\"33\"},{\"kota\":\"6\",\"tahun\":\"2013\",\"luas_panen\":\"42587\",\"luas_lahan\":\"56643\",\"produktivitas\":\"49.36\",\"stasiun\":\"1\",\"suhu_min\":\"21\",\"suhu_max\":\"37\",\"suhu_avg\":\"27\",\"humidity_avg\":\"84\",\"curah_hujan\":\"3006\",\"hari_hujan\":\"243\",\"penyinaran\":\"33\"},{\"kota\":\"7\",\"tahun\":\"2013\",\"luas_panen\":\"45178\",\"luas_lahan\":\"48359\",\"produktivitas\":\"48.32\",\"stasiun\":\"1\",\"suhu_min\":\"21\",\"suhu_max\":\"37\",\"suhu_avg\":\"27\",\"humidity_avg\":\"84\",\"curah_hujan\":\"3006\",\"hari_hujan\":\"243\",\"penyinaran\":\"33\"},{\"kota\":\"8\",\"tahun\":\"2013\",\"luas_panen\":\"9857\",\"luas_lahan\":\"42733\",\"produktivitas\":\"54.65\",\"stasiun\":\"1\",\"suhu_min\":\"21\",\"suhu_max\":\"37\",\"suhu_avg\":\"27\",\"humidity_avg\":\"84\",\"curah_hujan\":\"3006\",\"hari_hujan\":\"243\",\"penyinaran\":\"33\"},{\"kota\":\"9\",\"tahun\":\"2013\",\"luas_panen\":\"32997\",\"luas_lahan\":\"44851\",\"produktivitas\":\"46.3\",\"stasiun\":\"1\",\"suhu_min\":\"21\",\"suhu_max\":\"37\",\"suhu_avg\":\"27\",\"humidity_avg\":\"84\",\"curah_hujan\":\"3006\",\"hari_hujan\":\"243\",\"penyinaran\":\"33\"},{\"kota\":\"10\",\"tahun\":\"2013\",\"luas_panen\":\"22697\",\"luas_lahan\":\"30009\",\"produktivitas\":\"42.9\",\"stasiun\":\"1\",\"suhu_min\":\"21\",\"suhu_max\":\"37\",\"suhu_avg\":\"27\",\"humidity_avg\":\"84\",\"curah_hujan\":\"3006\",\"hari_hujan\":\"243\",\"penyinaran\":\"33\"},{\"kota\":\"11\",\"tahun\":\"2013\",\"luas_panen\":\"31235\",\"luas_lahan\":\"34132\",\"produktivitas\":\"39.75\",\"stasiun\":\"1\",\"suhu_min\":\"21\",\"suhu_max\":\"37\",\"suhu_avg\":\"27\",\"humidity_avg\":\"84\",\"curah_hujan\":\"3006\",\"hari_hujan\":\"243\",\"penyinaran\":\"33\"},{\"kota\":\"12\",\"tahun\":\"2013\",\"luas_panen\":\"1669\",\"luas_lahan\":\"1717\",\"produktivitas\":\"36.62\",\"stasiun\":\"1\",\"suhu_min\":\"21\",\"suhu_max\":\"37\",\"suhu_avg\":\"27\",\"humidity_avg\":\"84\",\"curah_hujan\":\"3006\",\"hari_hujan\":\"243\",\"penyinaran\":\"33\"},{\"kota\":\"13\",\"tahun\":\"2013\",\"luas_panen\":\"1731\",\"luas_lahan\":\"5455\",\"produktivitas\":\"38.49\",\"stasiun\":\"1\",\"suhu_min\":\"21\",\"suhu_max\":\"37\",\"suhu_avg\":\"27\",\"humidity_avg\":\"84\",\"curah_hujan\":\"3006\",\"hari_hujan\":\"243\",\"penyinaran\":\"33\"},{\"kota\":\"1\",\"tahun\":\"2014\",\"luas_panen\":\"44728\",\"luas_lahan\":\"75900\",\"produktivitas\":\"35.63\",\"stasiun\":\"1\",\"suhu_min\":\"20\",\"suhu_max\":\"37\",\"suhu_avg\":\"27\",\"humidity_avg\":\"83\",\"curah_hujan\":\"2371\",\"hari_hujan\":\"221\",\"penyinaran\":\"36\"},{\"kota\":\"2\",\"tahun\":\"2014\",\"luas_panen\":\"21019\",\"luas_lahan\":\"32624\",\"produktivitas\":\"37.61\",\"stasiun\":\"1\",\"suhu_min\":\"20\",\"suhu_max\":\"37\",\"suhu_avg\":\"27\",\"humidity_avg\":\"83\",\"curah_hujan\":\"2371\",\"hari_hujan\":\"221\",\"penyinaran\":\"36\"},{\"kota\":\"3\",\"tahun\":\"2014\",\"luas_panen\":\"69272\",\"luas_lahan\":\"70582\",\"produktivitas\":\"83.1\",\"stasiun\":\"1\",\"suhu_min\":\"20\",\"suhu_max\":\"37\",\"suhu_avg\":\"27\",\"humidity_avg\":\"83\",\"curah_hujan\":\"2371\",\"hari_hujan\":\"221\",\"penyinaran\":\"36\"},{\"kota\":\"4\",\"tahun\":\"2014\",\"luas_panen\":\"94883\",\"luas_lahan\":\"112713\",\"produktivitas\":\"35.7\",\"stasiun\":\"1\",\"suhu_min\":\"20\",\"suhu_max\":\"37\",\"suhu_avg\":\"27\",\"humidity_avg\":\"83\",\"curah_hujan\":\"2371\",\"hari_hujan\":\"221\",\"penyinaran\":\"36\"},{\"kota\":\"5\",\"tahun\":\"2014\",\"luas_panen\":\"58791\",\"luas_lahan\":\"60117\",\"produktivitas\":\"48.89\",\"stasiun\":\"1\",\"suhu_min\":\"20\",\"suhu_max\":\"37\",\"suhu_avg\":\"27\",\"humidity_avg\":\"83\",\"curah_hujan\":\"2371\",\"hari_hujan\":\"221\",\"penyinaran\":\"36\"},{\"kota\":\"6\",\"tahun\":\"2014\",\"luas_panen\":\"47487\",\"luas_lahan\":\"48967\",\"produktivitas\":\"46.15\",\"stasiun\":\"1\",\"suhu_min\":\"20\",\"suhu_max\":\"37\",\"suhu_avg\":\"27\",\"humidity_avg\":\"83\",\"curah_hujan\":\"2371\",\"hari_hujan\":\"221\",\"penyinaran\":\"36\"},{\"kota\":\"7\",\"tahun\":\"2014\",\"luas_panen\":\"45689\",\"luas_lahan\":\"38470\",\"produktivitas\":\"48.63\",\"stasiun\":\"1\",\"suhu_min\":\"20\",\"suhu_max\":\"37\",\"suhu_avg\":\"27\",\"humidity_avg\":\"83\",\"curah_hujan\":\"2371\",\"hari_hujan\":\"221\",\"penyinaran\":\"36\"},{\"kota\":\"8\",\"tahun\":\"2014\",\"luas_panen\":\"24439\",\"luas_lahan\":\"35034\",\"produktivitas\":\"53.2\",\"stasiun\":\"1\",\"suhu_min\":\"20\",\"suhu_max\":\"37\",\"suhu_avg\":\"27\",\"humidity_avg\":\"83\",\"curah_hujan\":\"2371\",\"hari_hujan\":\"221\",\"penyinaran\":\"36\"},{\"kota\":\"9\",\"tahun\":\"2014\",\"luas_panen\":\"32753\",\"luas_lahan\":\"15511\",\"produktivitas\":\"46.01\",\"stasiun\":\"1\",\"suhu_min\":\"20\",\"suhu_max\":\"37\",\"suhu_avg\":\"27\",\"humidity_avg\":\"83\",\"curah_hujan\":\"2371\",\"hari_hujan\":\"221\",\"penyinaran\":\"36\"},{\"kota\":\"10\",\"tahun\":\"2014\",\"luas_panen\":\"23320\",\"luas_lahan\":\"18385\",\"produktivitas\":\"42.62\",\"stasiun\":\"1\",\"suhu_min\":\"20\",\"suhu_max\":\"37\",\"suhu_avg\":\"27\",\"humidity_avg\":\"83\",\"curah_hujan\":\"2371\",\"hari_hujan\":\"221\",\"penyinaran\":\"36\"},{\"kota\":\"11\",\"tahun\":\"2014\",\"luas_panen\":\"32318\",\"luas_lahan\":\"34273\",\"produktivitas\":\"41.18\",\"stasiun\":\"1\",\"suhu_min\":\"20\",\"suhu_max\":\"37\",\"suhu_avg\":\"27\",\"humidity_avg\":\"83\",\"curah_hujan\":\"2371\",\"hari_hujan\":\"221\",\"penyinaran\":\"36\"},{\"kota\":\"12\",\"tahun\":\"2014\",\"luas_panen\":\"1668\",\"luas_lahan\":\"1992\",\"produktivitas\":\"32.46\",\"stasiun\":\"1\",\"suhu_min\":\"20\",\"suhu_max\":\"37\",\"suhu_avg\":\"27\",\"humidity_avg\":\"83\",\"curah_hujan\":\"2371\",\"hari_hujan\":\"221\",\"penyinaran\":\"36\"},{\"kota\":\"13\",\"tahun\":\"2014\",\"luas_panen\":\"1766\",\"luas_lahan\":\"4257\",\"produktivitas\":\"36.88\",\"stasiun\":\"1\",\"suhu_min\":\"20\",\"suhu_max\":\"37\",\"suhu_avg\":\"27\",\"humidity_avg\":\"83\",\"curah_hujan\":\"2371\",\"hari_hujan\":\"221\",\"penyinaran\":\"36\"},{\"kota\":\"1\",\"tahun\":\"2015\",\"luas_panen\":\"47365\",\"luas_lahan\":\"75698\",\"produktivitas\":\"36.39\",\"stasiun\":\"1\",\"suhu_min\":\"24\",\"suhu_max\":\"33\",\"suhu_avg\":\"27\",\"humidity_avg\":\"80\",\"curah_hujan\":\"2509\",\"hari_hujan\":\"149\",\"penyinaran\":\"62\"},{\"kota\":\"2\",\"tahun\":\"2015\",\"luas_panen\":\"23150\",\"luas_lahan\":\"31975\",\"produktivitas\":\"34.82\",\"stasiun\":\"1\",\"suhu_min\":\"24\",\"suhu_max\":\"33\",\"suhu_avg\":\"27\",\"humidity_avg\":\"80\",\"curah_hujan\":\"2509\",\"hari_hujan\":\"149\",\"penyinaran\":\"62\"},{\"kota\":\"3\",\"tahun\":\"2015\",\"luas_panen\":\"70661\",\"luas_lahan\":\"69468\",\"produktivitas\":\"36.97\",\"stasiun\":\"1\",\"suhu_min\":\"24\",\"suhu_max\":\"33\",\"suhu_avg\":\"27\",\"humidity_avg\":\"80\",\"curah_hujan\":\"2509\",\"hari_hujan\":\"149\",\"penyinaran\":\"62\"},{\"kota\":\"4\",\"tahun\":\"2015\",\"luas_panen\":\"95999\",\"luas_lahan\":\"113998\",\"produktivitas\":\"35.46\",\"stasiun\":\"1\",\"suhu_min\":\"24\",\"suhu_max\":\"33\",\"suhu_avg\":\"27\",\"humidity_avg\":\"80\",\"curah_hujan\":\"2509\",\"hari_hujan\":\"149\",\"penyinaran\":\"62\"},{\"kota\":\"5\",\"tahun\":\"2015\",\"luas_panen\":\"63090\",\"luas_lahan\":\"65967\",\"produktivitas\":\"47.73\",\"stasiun\":\"1\",\"suhu_min\":\"24\",\"suhu_max\":\"33\",\"suhu_avg\":\"27\",\"humidity_avg\":\"80\",\"curah_hujan\":\"2509\",\"hari_hujan\":\"149\",\"penyinaran\":\"62\"},{\"kota\":\"6\",\"tahun\":\"2015\",\"luas_panen\":\"47146\",\"luas_lahan\":\"45694\",\"produktivitas\":\"49.41\",\"stasiun\":\"1\",\"suhu_min\":\"24\",\"suhu_max\":\"33\",\"suhu_avg\":\"27\",\"humidity_avg\":\"80\",\"curah_hujan\":\"2509\",\"hari_hujan\":\"149\",\"penyinaran\":\"62\"},{\"kota\":\"7\",\"tahun\":\"2015\",\"luas_panen\":\"49811\",\"luas_lahan\":\"38470\",\"produktivitas\":\"50.73\",\"stasiun\":\"1\",\"suhu_min\":\"24\",\"suhu_max\":\"33\",\"suhu_avg\":\"27\",\"humidity_avg\":\"80\",\"curah_hujan\":\"2509\",\"hari_hujan\":\"149\",\"penyinaran\":\"62\"},{\"kota\":\"8\",\"tahun\":\"2015\",\"luas_panen\":\"26847\",\"luas_lahan\":\"36051\",\"produktivitas\":\"53.87\",\"stasiun\":\"1\",\"suhu_min\":\"24\",\"suhu_max\":\"33\",\"suhu_avg\":\"27\",\"humidity_avg\":\"80\",\"curah_hujan\":\"2509\",\"hari_hujan\":\"149\",\"penyinaran\":\"62\"},{\"kota\":\"9\",\"tahun\":\"2015\",\"luas_panen\":\"21948\",\"luas_lahan\":\"15511\",\"produktivitas\":\"40.03\",\"stasiun\":\"1\",\"suhu_min\":\"24\",\"suhu_max\":\"33\",\"suhu_avg\":\"27\",\"humidity_avg\":\"80\",\"curah_hujan\":\"2509\",\"hari_hujan\":\"149\",\"penyinaran\":\"62\"},{\"kota\":\"10\",\"tahun\":\"2015\",\"luas_panen\":\"22497\",\"luas_lahan\":\"17758\",\"produktivitas\":\"43.16\",\"stasiun\":\"1\",\"suhu_min\":\"24\",\"suhu_max\":\"33\",\"suhu_avg\":\"27\",\"humidity_avg\":\"80\",\"curah_hujan\":\"2509\",\"hari_hujan\":\"149\",\"penyinaran\":\"62\"},{\"kota\":\"11\",\"tahun\":\"2015\",\"luas_panen\":\"39236\",\"luas_lahan\":\"34273\",\"produktivitas\":\"40.1\",\"stasiun\":\"1\",\"suhu_min\":\"24\",\"suhu_max\":\"33\",\"suhu_avg\":\"27\",\"humidity_avg\":\"80\",\"curah_hujan\":\"2509\",\"hari_hujan\":\"149\",\"penyinaran\":\"62\"},{\"kota\":\"12\",\"tahun\":\"2015\",\"luas_panen\":\"1770\",\"luas_lahan\":\"1988\",\"produktivitas\":\"37.05\",\"stasiun\":\"1\",\"suhu_min\":\"24\",\"suhu_max\":\"33\",\"suhu_avg\":\"27\",\"humidity_avg\":\"80\",\"curah_hujan\":\"2509\",\"hari_hujan\":\"149\",\"penyinaran\":\"62\"},{\"kota\":\"13\",\"tahun\":\"2015\",\"luas_panen\":\"1693\",\"luas_lahan\":\"4851\",\"produktivitas\":\"32.15\",\"stasiun\":\"1\",\"suhu_min\":\"24\",\"suhu_max\":\"33\",\"suhu_avg\":\"27\",\"humidity_avg\":\"80\",\"curah_hujan\":\"2509\",\"hari_hujan\":\"149\",\"penyinaran\":\"62\"},{\"kota\":\"1\",\"tahun\":\"2016\",\"luas_panen\":\"51264.1\",\"luas_lahan\":\"73840\",\"produktivitas\":\"39.13\",\"stasiun\":\"1\",\"suhu_min\":\"23\",\"suhu_max\":\"34\",\"suhu_avg\":\"27\",\"humidity_avg\":\"85\",\"curah_hujan\":\"2975\",\"hari_hujan\":\"238\",\"penyinaran\":\"51\"},{\"kota\":\"2\",\"tahun\":\"2016\",\"luas_panen\":\"25168.9\",\"luas_lahan\":\"32037\",\"produktivitas\":\"38.49\",\"stasiun\":\"1\",\"suhu_min\":\"23\",\"suhu_max\":\"34\",\"suhu_avg\":\"27\",\"humidity_avg\":\"85\",\"curah_hujan\":\"2975\",\"hari_hujan\":\"238\",\"penyinaran\":\"51\"},{\"kota\":\"3\",\"tahun\":\"2016\",\"luas_panen\":\"74200.5\",\"luas_lahan\":\"68645\",\"produktivitas\":\"35.79\",\"stasiun\":\"1\",\"suhu_min\":\"23\",\"suhu_max\":\"34\",\"suhu_avg\":\"27\",\"humidity_avg\":\"85\",\"curah_hujan\":\"2975\",\"hari_hujan\":\"238\",\"penyinaran\":\"51\"},{\"kota\":\"4\",\"tahun\":\"2016\",\"luas_panen\":\"100348.6\",\"luas_lahan\":\"115473\",\"produktivitas\":\"38.1\",\"stasiun\":\"1\",\"suhu_min\":\"23\",\"suhu_max\":\"34\",\"suhu_avg\":\"27\",\"humidity_avg\":\"85\",\"curah_hujan\":\"2975\",\"hari_hujan\":\"238\",\"penyinaran\":\"51\"},{\"kota\":\"5\",\"tahun\":\"2016\",\"luas_panen\":\"73974.4\",\"luas_lahan\":\"66164\",\"produktivitas\":\"39.97\",\"stasiun\":\"1\",\"suhu_min\":\"23\",\"suhu_max\":\"34\",\"suhu_avg\":\"27\",\"humidity_avg\":\"85\",\"curah_hujan\":\"2975\",\"hari_hujan\":\"238\",\"penyinaran\":\"51\"},{\"kota\":\"6\",\"tahun\":\"2016\",\"luas_panen\":\"51450\",\"luas_lahan\":\"51608\",\"produktivitas\":\"46.9\",\"stasiun\":\"1\",\"suhu_min\":\"23\",\"suhu_max\":\"34\",\"suhu_avg\":\"27\",\"humidity_avg\":\"85\",\"curah_hujan\":\"2975\",\"hari_hujan\":\"238\",\"penyinaran\":\"51\"},{\"kota\":\"7\",\"tahun\":\"2016\",\"luas_panen\":\"58247.5\",\"luas_lahan\":\"38470\",\"produktivitas\":\"48.94\",\"stasiun\":\"1\",\"suhu_min\":\"23\",\"suhu_max\":\"34\",\"suhu_avg\":\"27\",\"humidity_avg\":\"85\",\"curah_hujan\":\"2975\",\"hari_hujan\":\"238\",\"penyinaran\":\"51\"},{\"kota\":\"8\",\"tahun\":\"2016\",\"luas_panen\":\"24226.6\",\"luas_lahan\":\"36051\",\"produktivitas\":\"54\",\"stasiun\":\"1\",\"suhu_min\":\"23\",\"suhu_max\":\"34\",\"suhu_avg\":\"27\",\"humidity_avg\":\"85\",\"curah_hujan\":\"2975\",\"hari_hujan\":\"238\",\"penyinaran\":\"51\"},{\"kota\":\"9\",\"tahun\":\"2016\",\"luas_panen\":\"23583.4\",\"luas_lahan\":\"15981\",\"produktivitas\":\"44.36\",\"stasiun\":\"1\",\"suhu_min\":\"23\",\"suhu_max\":\"34\",\"suhu_avg\":\"27\",\"humidity_avg\":\"85\",\"curah_hujan\":\"2975\",\"hari_hujan\":\"238\",\"penyinaran\":\"51\"},{\"kota\":\"10\",\"tahun\":\"2016\",\"luas_panen\":\"21825.7\",\"luas_lahan\":\"17631\",\"produktivitas\":\"41.84\",\"stasiun\":\"1\",\"suhu_min\":\"23\",\"suhu_max\":\"34\",\"suhu_avg\":\"27\",\"humidity_avg\":\"85\",\"curah_hujan\":\"2975\",\"hari_hujan\":\"238\",\"penyinaran\":\"51\"},{\"kota\":\"11\",\"tahun\":\"2016\",\"luas_panen\":\"39564\",\"luas_lahan\":\"33471\",\"produktivitas\":\"39.56\",\"stasiun\":\"1\",\"suhu_min\":\"23\",\"suhu_max\":\"34\",\"suhu_avg\":\"27\",\"humidity_avg\":\"85\",\"curah_hujan\":\"2975\",\"hari_hujan\":\"238\",\"penyinaran\":\"51\"},{\"kota\":\"12\",\"tahun\":\"2016\",\"luas_panen\":\"1787.8\",\"luas_lahan\":\"1988\",\"produktivitas\":\"36.37\",\"stasiun\":\"1\",\"suhu_min\":\"23\",\"suhu_max\":\"34\",\"suhu_avg\":\"27\",\"humidity_avg\":\"85\",\"curah_hujan\":\"2975\",\"hari_hujan\":\"238\",\"penyinaran\":\"51\"},{\"kota\":\"13\",\"tahun\":\"2016\",\"luas_panen\":\"1807.9\",\"luas_lahan\":\"4851\",\"produktivitas\":\"31.14\",\"stasiun\":\"1\",\"suhu_min\":\"23\",\"suhu_max\":\"34\",\"suhu_avg\":\"27\",\"humidity_avg\":\"85\",\"curah_hujan\":\"2975\",\"hari_hujan\":\"238\",\"penyinaran\":\"51\"},{\"kota\":\"1\",\"tahun\":\"2017\",\"luas_panen\":\"55724.7\",\"luas_lahan\":\"73412\",\"produktivitas\":\"33.58\",\"stasiun\":\"1\",\"suhu_min\":\"20\",\"suhu_max\":\"37\",\"suhu_avg\":\"27\",\"humidity_avg\":\"86\",\"curah_hujan\":\"3263\",\"hari_hujan\":\"247\",\"penyinaran\":\"39\"},{\"kota\":\"2\",\"tahun\":\"2017\",\"luas_panen\":\"29217.5\",\"luas_lahan\":\"31746\",\"produktivitas\":\"36.99\",\"stasiun\":\"1\",\"suhu_min\":\"20\",\"suhu_max\":\"37\",\"suhu_avg\":\"27\",\"humidity_avg\":\"86\",\"curah_hujan\":\"3263\",\"hari_hujan\":\"247\",\"penyinaran\":\"39\"},{\"kota\":\"3\",\"tahun\":\"2017\",\"luas_panen\":\"67322.3\",\"luas_lahan\":\"60287\",\"produktivitas\":\"33.64\",\"stasiun\":\"1\",\"suhu_min\":\"20\",\"suhu_max\":\"37\",\"suhu_avg\":\"27\",\"humidity_avg\":\"86\",\"curah_hujan\":\"3263\",\"hari_hujan\":\"247\",\"penyinaran\":\"39\"},{\"kota\":\"4\",\"tahun\":\"2017\",\"luas_panen\":\"101228.3\",\"luas_lahan\":\"116077\",\"produktivitas\":\"38.5\",\"stasiun\":\"1\",\"suhu_min\":\"20\",\"suhu_max\":\"37\",\"suhu_avg\":\"27\",\"humidity_avg\":\"86\",\"curah_hujan\":\"3263\",\"hari_hujan\":\"247\",\"penyinaran\":\"39\"},{\"kota\":\"5\",\"tahun\":\"2017\",\"luas_panen\":\"80840.1\",\"luas_lahan\":\"66581\",\"produktivitas\":\"37.08\",\"stasiun\":\"1\",\"suhu_min\":\"20\",\"suhu_max\":\"37\",\"suhu_avg\":\"27\",\"humidity_avg\":\"86\",\"curah_hujan\":\"3263\",\"hari_hujan\":\"247\",\"penyinaran\":\"39\"},{\"kota\":\"6\",\"tahun\":\"2017\",\"luas_panen\":\"52241.4\",\"luas_lahan\":\"52591\",\"produktivitas\":\"43.01\",\"stasiun\":\"1\",\"suhu_min\":\"20\",\"suhu_max\":\"37\",\"suhu_avg\":\"27\",\"humidity_avg\":\"86\",\"curah_hujan\":\"3263\",\"hari_hujan\":\"247\",\"penyinaran\":\"39\"},{\"kota\":\"7\",\"tahun\":\"2017\",\"luas_panen\":\"60310.9\",\"luas_lahan\":\"38470\",\"produktivitas\":\"50.38\",\"stasiun\":\"1\",\"suhu_min\":\"20\",\"suhu_max\":\"37\",\"suhu_avg\":\"27\",\"humidity_avg\":\"86\",\"curah_hujan\":\"3263\",\"hari_hujan\":\"247\",\"penyinaran\":\"39\"},{\"kota\":\"8\",\"tahun\":\"2017\",\"luas_panen\":\"23292.8\",\"luas_lahan\":\"36051\",\"produktivitas\":\"56.58\",\"stasiun\":\"1\",\"suhu_min\":\"20\",\"suhu_max\":\"37\",\"suhu_avg\":\"27\",\"humidity_avg\":\"86\",\"curah_hujan\":\"3263\",\"hari_hujan\":\"247\",\"penyinaran\":\"39\"},{\"kota\":\"9\",\"tahun\":\"2017\",\"luas_panen\":\"28090.3\",\"luas_lahan\":\"16087\",\"produktivitas\":\"40.37\",\"stasiun\":\"1\",\"suhu_min\":\"20\",\"suhu_max\":\"37\",\"suhu_avg\":\"27\",\"humidity_avg\":\"86\",\"curah_hujan\":\"3263\",\"hari_hujan\":\"247\",\"penyinaran\":\"39\"},{\"kota\":\"10\",\"tahun\":\"2017\",\"luas_panen\":\"27313.6\",\"luas_lahan\":\"17578\",\"produktivitas\":\"39.96\",\"stasiun\":\"1\",\"suhu_min\":\"20\",\"suhu_max\":\"37\",\"suhu_avg\":\"27\",\"humidity_avg\":\"86\",\"curah_hujan\":\"3263\",\"hari_hujan\":\"247\",\"penyinaran\":\"39\"},{\"kota\":\"11\",\"tahun\":\"2017\",\"luas_panen\":\"40760.6\",\"luas_lahan\":\"34269\",\"produktivitas\":\"32.15\",\"stasiun\":\"1\",\"suhu_min\":\"20\",\"suhu_max\":\"37\",\"suhu_avg\":\"27\",\"humidity_avg\":\"86\",\"curah_hujan\":\"3263\",\"hari_hujan\":\"247\",\"penyinaran\":\"39\"},{\"kota\":\"12\",\"tahun\":\"2017\",\"luas_panen\":\"1787.6\",\"luas_lahan\":\"1988\",\"produktivitas\":\"39.35\",\"stasiun\":\"1\",\"suhu_min\":\"20\",\"suhu_max\":\"37\",\"suhu_avg\":\"27\",\"humidity_avg\":\"86\",\"curah_hujan\":\"3263\",\"hari_hujan\":\"247\",\"penyinaran\":\"39\"},{\"kota\":\"13\",\"tahun\":\"2017\",\"luas_panen\":\"1862.9\",\"luas_lahan\":\"4851\",\"produktivitas\":\"33.52\",\"stasiun\":\"1\",\"suhu_min\":\"20\",\"suhu_max\":\"37\",\"suhu_avg\":\"27\",\"humidity_avg\":\"86\",\"curah_hujan\":\"3263\",\"hari_hujan\":\"247\",\"penyinaran\":\"39\"},{\"kota\":\"\"}]\n",
    "\n",
    "asdf = pd.json_normalize(asd)\n",
    "print(asdf)"
   ]
  }
 ],
 "metadata": {
  "kernelspec": {
   "display_name": "Python 3.9.13 64-bit (windows store)",
   "language": "python",
   "name": "python3"
  },
  "language_info": {
   "codemirror_mode": {
    "name": "ipython",
    "version": 3
   },
   "file_extension": ".py",
   "mimetype": "text/x-python",
   "name": "python",
   "nbconvert_exporter": "python",
   "pygments_lexer": "ipython3",
   "version": "3.9.13"
  },
  "orig_nbformat": 4,
  "vscode": {
   "interpreter": {
    "hash": "23b4a3e8622309bcc6db3d5cc6eb73d60ab98d9ec23bad6a26b709981ccb403a"
   }
  }
 },
 "nbformat": 4,
 "nbformat_minor": 2
}
