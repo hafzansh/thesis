{
 "cells": [
  {
   "cell_type": "code",
   "execution_count": 1,
   "metadata": {},
   "outputs": [],
   "source": [
    "import tensorflow as tf\n",
    "from tensorflow import keras\n",
    "from joblib import load\n",
    "from sklearn.preprocessing import StandardScaler\n",
    "from sklearn.model_selection import train_test_split\n",
    "from sklearn.metrics import mean_absolute_error\n",
    "import pandas as np\n",
    "import numpy as np"
   ]
  },
  {
   "cell_type": "code",
   "execution_count": 2,
   "metadata": {},
   "outputs": [],
   "source": [
    "data = {\n",
    "  \"path\": \"assets/531f43c9222e42568520c6afa0707945\",\n",
    "  \"kota\": 1,\n",
    "  \"tahun\": 2011,\n",
    "  \"luas_panen\": 4366,\n",
    "  \"luas_lahan\": 74902,\n",
    "  \"produktivitas\": 21.04,\n",
    "  \"stasiun\": 1,\n",
    "  \"suhu_min\": 21.21,\n",
    "  \"suhu_max\": 33.85,\n",
    "  \"suhu_avg\": 24.51,\n",
    "  \"humidity_avg\": 83.71,\n",
    "  \"curah_hujan\": 2903,\n",
    "  \"hari_hujan\": 212,\n",
    "  \"penyinaran\": 42.5\n",
    "}\n",
    "path = data['path']\n",
    "x_scaler = load(path+'/scaler_x.bin')\n",
    "y_scaler = load(path+'/scaler_y.bin')\n",
    "model = keras.models.load_model(path+'/model.h5')"
   ]
  },
  {
   "cell_type": "code",
   "execution_count": null,
   "metadata": {},
   "outputs": [],
   "source": []
  },
  {
   "cell_type": "code",
   "execution_count": 3,
   "metadata": {},
   "outputs": [],
   "source": [
    "kota= 1\n",
    "tahun= 2011\n",
    "luas_panen= 43666\n",
    "luas_lahan= 74902\n",
    "produktivitas= 21.04\n",
    "stasiun= 1\n",
    "suhu_min= 21.21\n",
    "suhu_max= 33.85\n",
    "suhu_avg= 24.51\n",
    "humidity_avg= 83.71\n",
    "curah_hujan= 2903\n",
    "hari_hujan= 212\n",
    "penyinaran= 42.5\n",
    "produksi= 91857\n",
    "x=np.array([kota,tahun,luas_panen,luas_lahan,produktivitas,stasiun,suhu_min,suhu_max,suhu_avg,humidity_avg,curah_hujan,hari_hujan,penyinaran])\n",
    "x_scaled = x_scaler.transform(x.reshape(1,-1))"
   ]
  },
  {
   "cell_type": "code",
   "execution_count": 4,
   "metadata": {},
   "outputs": [
    {
     "name": "stdout",
     "output_type": "stream",
     "text": [
      "[[-0.5161238]]\n"
     ]
    }
   ],
   "source": [
    "result = model.predict(x_scaled)\n",
    "print(result)"
   ]
  },
  {
   "cell_type": "code",
   "execution_count": 33,
   "metadata": {},
   "outputs": [
    {
     "ename": "AttributeError",
     "evalue": "'dict' object has no attribute 'path'",
     "output_type": "error",
     "traceback": [
      "\u001b[1;31m---------------------------------------------------------------------------\u001b[0m",
      "\u001b[1;31mAttributeError\u001b[0m                            Traceback (most recent call last)",
      "\u001b[1;32mc:\\Users\\User\\desktop\\thesis\\backend\\test.ipynb Cell 6\u001b[0m in \u001b[0;36m<cell line: 1>\u001b[1;34m()\u001b[0m\n\u001b[1;32m----> <a href='vscode-notebook-cell:/c%3A/Users/User/desktop/thesis/backend/test.ipynb#ch0000008?line=0'>1</a>\u001b[0m \u001b[39mprint\u001b[39m(data\u001b[39m.\u001b[39;49mpath)\n",
      "\u001b[1;31mAttributeError\u001b[0m: 'dict' object has no attribute 'path'"
     ]
    }
   ],
   "source": [
    "print(data.path)"
   ]
  },
  {
   "cell_type": "code",
   "execution_count": 24,
   "metadata": {},
   "outputs": [
    {
     "name": "stdout",
     "output_type": "stream",
     "text": [
      "[[-1.61939512 -1.67536906  0.11128749  0.97913145 -1.86567841  0.\n",
      "   0.39182345 -1.22652418 -3.42447401 -0.25231697  0.18735809 -0.64649169\n",
      "   0.00476621]]\n"
     ]
    }
   ],
   "source": [
    "print(x_scaled)\n",
    "v = \"[[-1.619395117703163, -1.6753690636288858, -1.2714217589870211, 0.9791314544304635, -1.865678407140102, 0.0, 0.39182345313375466, -1.2265241798431068, -3.424474007723124, -0.2523169707288761, 0.1873580895023063, -0.6464916927104012, 0.0047662131430590395]]\"\n",
    "s = \"[[-1.61939512, -1.67536906,0.11128749,  0.97913145, -1.86567841,  0,.0.39182345, -1.22652418, -3.42447401, -0.25231697,  0.18735809, -0.64649169, 0.00476621,]]\""
   ]
  },
  {
   "cell_type": "code",
   "execution_count": 5,
   "metadata": {},
   "outputs": [
    {
     "name": "stdout",
     "output_type": "stream",
     "text": [
      "[[86717.77]]\n"
     ]
    }
   ],
   "source": [
    "final = y_scaler.inverse_transform(result.reshape(1,-1))\n",
    "print(final)"
   ]
  },
  {
   "cell_type": "code",
   "execution_count": 23,
   "metadata": {},
   "outputs": [
    {
     "data": {
      "text/plain": [
       "'[124041.9140625]'"
      ]
     },
     "execution_count": 23,
     "metadata": {},
     "output_type": "execute_result"
    }
   ],
   "source": [
    "import json\n",
    "json.dumps(final.flatten().tolist())"
   ]
  }
 ],
 "metadata": {
  "kernelspec": {
   "display_name": "Python 3.9.6 64-bit",
   "language": "python",
   "name": "python3"
  },
  "language_info": {
   "codemirror_mode": {
    "name": "ipython",
    "version": 3
   },
   "file_extension": ".py",
   "mimetype": "text/x-python",
   "name": "python",
   "nbconvert_exporter": "python",
   "pygments_lexer": "ipython3",
   "version": "3.9.6"
  },
  "orig_nbformat": 4,
  "vscode": {
   "interpreter": {
    "hash": "3fb1bc68b64697b3816c0b7b80cdfad361b134b0855307ffbe52374048185cac"
   }
  }
 },
 "nbformat": 4,
 "nbformat_minor": 2
}
